{
 "cells": [
  {
   "cell_type": "markdown",
   "id": "trained-moses",
   "metadata": {},
   "source": [
    "import libraries(I provide all libs that I need when make this tasks, if you need some external import them here)"
   ]
  },
  {
   "cell_type": "code",
   "execution_count": 4,
   "id": "induced-african",
   "metadata": {},
   "outputs": [],
   "source": [
    "import pyspark\n",
    "from pyspark.sql import SparkSession\n",
    "from pyspark.sql.types import StructType, StructField, IntegerType, StringType\n",
    "from pyspark.sql.functions import col\n",
    "from pyspark.sql.functions import max, avg, min\n",
    "from pyspark.sql.window import Window\n",
    "from pyspark.sql.functions import row_number\n",
    "from pyspark.sql.functions import when\n",
    "import findspark\n",
    "findspark.init()\n",
    "import pandas as pd"
   ]
  },
  {
   "cell_type": "markdown",
   "id": "permanent-photographer",
   "metadata": {},
   "source": [
    "create local SparkSession"
   ]
  },
  {
   "cell_type": "code",
   "execution_count": 5,
   "id": "stock-partnership",
   "metadata": {},
   "outputs": [],
   "source": [
    "spark = SparkSession.builder.master(\"local[1]\") \\\n",
    "                    .appName('PySpark_Basics') \\\n",
    "                    .getOrCreate()"
   ]
  },
  {
   "cell_type": "markdown",
   "id": "juvenile-blame",
   "metadata": {},
   "source": [
    "read csv with inferschema"
   ]
  },
  {
   "cell_type": "code",
   "execution_count": 6,
   "id": "computational-liverpool",
   "metadata": {},
   "outputs": [
    {
     "name": "stdout",
     "output_type": "stream",
     "text": [
      "+----+---------+----------------+---------------+--------------------+--------+---------------+-------------+------------------+------------+----------------+------------+\n",
      "| _c0|      _c1|             _c2|            _c3|                 _c4|     _c5|            _c6|          _c7|               _c8|         _c9|            _c10|        _c11|\n",
      "+----+---------+----------------+---------------+--------------------+--------+---------------+-------------+------------------+------------+----------------+------------+\n",
      "|null|work_year|experience_level|employment_type|           job_title|  salary|salary_currency|salary_in_usd|employee_residence|remote_ratio|company_location|company_size|\n",
      "|   0|     2020|              MI|             FT|      Data Scientist|   70000|            EUR|        79833|                DE|           0|              DE|           L|\n",
      "|   1|     2020|              SE|             FT|Machine Learning ...|  260000|            USD|       260000|                JP|           0|              JP|           S|\n",
      "|   2|     2020|              SE|             FT|   Big Data Engineer|   85000|            GBP|       109024|                GB|          50|              GB|           M|\n",
      "|   3|     2020|              MI|             FT|Product Data Analyst|   20000|            USD|        20000|                HN|           0|              HN|           S|\n",
      "|   4|     2020|              SE|             FT|Machine Learning ...|  150000|            USD|       150000|                US|          50|              US|           L|\n",
      "|   5|     2020|              EN|             FT|        Data Analyst|   72000|            USD|        72000|                US|         100|              US|           L|\n",
      "|   6|     2020|              SE|             FT| Lead Data Scientist|  190000|            USD|       190000|                US|         100|              US|           S|\n",
      "|   7|     2020|              MI|             FT|      Data Scientist|11000000|            HUF|        35735|                HU|          50|              HU|           L|\n",
      "|   8|     2020|              MI|             FT|Business Data Ana...|  135000|            USD|       135000|                US|         100|              US|           L|\n",
      "|   9|     2020|              SE|             FT|  Lead Data Engineer|  125000|            USD|       125000|                NZ|          50|              NZ|           S|\n",
      "|  10|     2020|              EN|             FT|      Data Scientist|   45000|            EUR|        51321|                FR|           0|              FR|           S|\n",
      "|  11|     2020|              MI|             FT|      Data Scientist| 3000000|            INR|        40481|                IN|           0|              IN|           L|\n",
      "|  12|     2020|              EN|             FT|      Data Scientist|   35000|            EUR|        39916|                FR|           0|              FR|           M|\n",
      "|  13|     2020|              MI|             FT|   Lead Data Analyst|   87000|            USD|        87000|                US|         100|              US|           L|\n",
      "|  14|     2020|              MI|             FT|        Data Analyst|   85000|            USD|        85000|                US|         100|              US|           L|\n",
      "|  15|     2020|              MI|             FT|        Data Analyst|    8000|            USD|         8000|                PK|          50|              PK|           L|\n",
      "|  16|     2020|              EN|             FT|       Data Engineer| 4450000|            JPY|        41689|                JP|         100|              JP|           S|\n",
      "|  17|     2020|              SE|             FT|   Big Data Engineer|  100000|            EUR|       114047|                PL|         100|              GB|           S|\n",
      "|  18|     2020|              EN|             FT|Data Science Cons...|  423000|            INR|         5707|                IN|          50|              IN|           M|\n",
      "+----+---------+----------------+---------------+--------------------+--------+---------------+-------------+------------------+------------+----------------+------------+\n",
      "only showing top 20 rows\n",
      "\n"
     ]
    }
   ],
   "source": [
    "df = spark.read.csv(\"ds_salaries.csv\")\n",
    "df.show()"
   ]
  },
  {
   "cell_type": "markdown",
   "id": "stopped-dominant",
   "metadata": {},
   "source": [
    "read csv one more time with the same code and you will see that it almostly don't take time, because info already in SparkSession and it will not read nothing\n",
    "from this file"
   ]
  },
  {
   "cell_type": "code",
   "execution_count": 7,
   "id": "aging-neighborhood",
   "metadata": {},
   "outputs": [],
   "source": [
    "df = spark.read.csv(\"ds_salaries.csv\")"
   ]
  },
  {
   "cell_type": "markdown",
   "id": "mature-tomorrow",
   "metadata": {},
   "source": [
    "write schema of scv on screen"
   ]
  },
  {
   "cell_type": "code",
   "execution_count": 8,
   "id": "least-communications",
   "metadata": {},
   "outputs": [
    {
     "name": "stdout",
     "output_type": "stream",
     "text": [
      "root\n",
      " |-- _c0: string (nullable = true)\n",
      " |-- _c1: string (nullable = true)\n",
      " |-- _c2: string (nullable = true)\n",
      " |-- _c3: string (nullable = true)\n",
      " |-- _c4: string (nullable = true)\n",
      " |-- _c5: string (nullable = true)\n",
      " |-- _c6: string (nullable = true)\n",
      " |-- _c7: string (nullable = true)\n",
      " |-- _c8: string (nullable = true)\n",
      " |-- _c9: string (nullable = true)\n",
      " |-- _c10: string (nullable = true)\n",
      " |-- _c11: string (nullable = true)\n",
      "\n"
     ]
    }
   ],
   "source": [
    "df.printSchema()"
   ]
  },
  {
   "cell_type": "markdown",
   "id": "connected-brother",
   "metadata": {},
   "source": [
    "create schema of this scv"
   ]
  },
  {
   "cell_type": "code",
   "execution_count": 9,
   "id": "progressive-dictionary",
   "metadata": {},
   "outputs": [],
   "source": [
    "schema = StructType([\n",
    "        StructField(\"employee_id\", IntegerType()),\n",
    "        StructField(\"work_year\", IntegerType()),\n",
    "        StructField(\"experience_level\", StringType()),\n",
    "        StructField(\"employment_type\", StringType()),\n",
    "        StructField(\"job_title\", StringType()),\n",
    "        StructField(\"salary\", IntegerType()),\n",
    "        StructField(\"salary_currency\", StringType()),\n",
    "        StructField(\"salary_in_usd\", IntegerType()),\n",
    "        StructField(\"employee_residence\",StringType()),\n",
    "        StructField(\"remote_ratio\", IntegerType()),\n",
    "        StructField(\"company_location\", StringType()),\n",
    "        StructField(\"company_size\", StringType())\n",
    "    ])"
   ]
  },
  {
   "cell_type": "markdown",
   "id": "auburn-sauce",
   "metadata": {},
   "source": [
    "restart kernel without cleaning output and after restarting you need to initialize SparkSession, after initialize start execute only cells from cell with schema=\n",
    "=StructType.... \n",
    "To restart kernel click Kernel, Restart."
   ]
  },
  {
   "cell_type": "markdown",
   "id": "artistic-hospital",
   "metadata": {},
   "source": [
    "read ds_salaries with predefined schema and compare results from this cell and cell with inferSchema"
   ]
  },
  {
   "cell_type": "code",
   "execution_count": 10,
   "id": "literary-plaintiff",
   "metadata": {},
   "outputs": [
    {
     "name": "stdout",
     "output_type": "stream",
     "text": [
      "+-----------+---------+----------------+---------------+--------------------+--------+---------------+-------------+------------------+------------+----------------+------------+\n",
      "|employee_id|work_year|experience_level|employment_type|           job_title|  salary|salary_currency|salary_in_usd|employee_residence|remote_ratio|company_location|company_size|\n",
      "+-----------+---------+----------------+---------------+--------------------+--------+---------------+-------------+------------------+------------+----------------+------------+\n",
      "|          0|     2020|              MI|             FT|      Data Scientist|   70000|            EUR|        79833|                DE|           0|              DE|           L|\n",
      "|          1|     2020|              SE|             FT|Machine Learning ...|  260000|            USD|       260000|                JP|           0|              JP|           S|\n",
      "|          2|     2020|              SE|             FT|   Big Data Engineer|   85000|            GBP|       109024|                GB|          50|              GB|           M|\n",
      "|          3|     2020|              MI|             FT|Product Data Analyst|   20000|            USD|        20000|                HN|           0|              HN|           S|\n",
      "|          4|     2020|              SE|             FT|Machine Learning ...|  150000|            USD|       150000|                US|          50|              US|           L|\n",
      "|          5|     2020|              EN|             FT|        Data Analyst|   72000|            USD|        72000|                US|         100|              US|           L|\n",
      "|          6|     2020|              SE|             FT| Lead Data Scientist|  190000|            USD|       190000|                US|         100|              US|           S|\n",
      "|          7|     2020|              MI|             FT|      Data Scientist|11000000|            HUF|        35735|                HU|          50|              HU|           L|\n",
      "|          8|     2020|              MI|             FT|Business Data Ana...|  135000|            USD|       135000|                US|         100|              US|           L|\n",
      "|          9|     2020|              SE|             FT|  Lead Data Engineer|  125000|            USD|       125000|                NZ|          50|              NZ|           S|\n",
      "|         10|     2020|              EN|             FT|      Data Scientist|   45000|            EUR|        51321|                FR|           0|              FR|           S|\n",
      "|         11|     2020|              MI|             FT|      Data Scientist| 3000000|            INR|        40481|                IN|           0|              IN|           L|\n",
      "|         12|     2020|              EN|             FT|      Data Scientist|   35000|            EUR|        39916|                FR|           0|              FR|           M|\n",
      "|         13|     2020|              MI|             FT|   Lead Data Analyst|   87000|            USD|        87000|                US|         100|              US|           L|\n",
      "|         14|     2020|              MI|             FT|        Data Analyst|   85000|            USD|        85000|                US|         100|              US|           L|\n",
      "|         15|     2020|              MI|             FT|        Data Analyst|    8000|            USD|         8000|                PK|          50|              PK|           L|\n",
      "|         16|     2020|              EN|             FT|       Data Engineer| 4450000|            JPY|        41689|                JP|         100|              JP|           S|\n",
      "|         17|     2020|              SE|             FT|   Big Data Engineer|  100000|            EUR|       114047|                PL|         100|              GB|           S|\n",
      "|         18|     2020|              EN|             FT|Data Science Cons...|  423000|            INR|         5707|                IN|          50|              IN|           M|\n",
      "|         19|     2020|              MI|             FT|  Lead Data Engineer|   56000|            USD|        56000|                PT|         100|              US|           M|\n",
      "+-----------+---------+----------------+---------------+--------------------+--------+---------------+-------------+------------------+------------+----------------+------------+\n",
      "only showing top 20 rows\n",
      "\n"
     ]
    }
   ],
   "source": [
    "df = spark.read \\\n",
    "  .option(\"header\", True) \\\n",
    "  .schema(schema) \\\n",
    "  .csv(\"ds_salaries.csv\")\n",
    "df.show()"
   ]
  },
  {
   "cell_type": "markdown",
   "id": "senior-joint",
   "metadata": {},
   "source": [
    "this happens because read operation is lazy(transformation), but if you use inferschema it start to be action that will create Spark Job, because Spark need to loop throw all file to check datatypes for all columns and this can harm to your code(if we compare to parquet, it will also go to check data types, but parquet provide meta information, so Spark will not go throw all file, he will just read meta information, but csv don't provide such meta information). Also header make Spark to create one more Spark Job to check first line\n",
    "to define name of columns and remember to skeep it when reading. Actual reading start when you will use first action. More about Spark Jobs you will see in next topic"
   ]
  },
  {
   "cell_type": "markdown",
   "id": "underlying-assurance",
   "metadata": {},
   "source": [
    "write schema of scv on screen one more time and compare with previous"
   ]
  },
  {
   "cell_type": "code",
   "execution_count": 11,
   "id": "solid-infection",
   "metadata": {},
   "outputs": [
    {
     "name": "stdout",
     "output_type": "stream",
     "text": [
      "root\n",
      " |-- employee_id: integer (nullable = true)\n",
      " |-- work_year: integer (nullable = true)\n",
      " |-- experience_level: string (nullable = true)\n",
      " |-- employment_type: string (nullable = true)\n",
      " |-- job_title: string (nullable = true)\n",
      " |-- salary: integer (nullable = true)\n",
      " |-- salary_currency: string (nullable = true)\n",
      " |-- salary_in_usd: integer (nullable = true)\n",
      " |-- employee_residence: string (nullable = true)\n",
      " |-- remote_ratio: integer (nullable = true)\n",
      " |-- company_location: string (nullable = true)\n",
      " |-- company_size: string (nullable = true)\n",
      "\n"
     ]
    }
   ],
   "source": [
    "df.printSchema()"
   ]
  },
  {
   "cell_type": "markdown",
   "id": "close-water",
   "metadata": {},
   "source": [
    "now continue to work with one of the dataframes that you create"
   ]
  },
  {
   "cell_type": "markdown",
   "id": "piano-belgium",
   "metadata": {},
   "source": [
    "print data in dataframe using df.show"
   ]
  },
  {
   "cell_type": "code",
   "execution_count": 12,
   "id": "legendary-alarm",
   "metadata": {},
   "outputs": [
    {
     "name": "stdout",
     "output_type": "stream",
     "text": [
      "+-----------+---------+----------------+---------------+--------------------+--------+---------------+-------------+------------------+------------+----------------+------------+\n",
      "|employee_id|work_year|experience_level|employment_type|           job_title|  salary|salary_currency|salary_in_usd|employee_residence|remote_ratio|company_location|company_size|\n",
      "+-----------+---------+----------------+---------------+--------------------+--------+---------------+-------------+------------------+------------+----------------+------------+\n",
      "|          0|     2020|              MI|             FT|      Data Scientist|   70000|            EUR|        79833|                DE|           0|              DE|           L|\n",
      "|          1|     2020|              SE|             FT|Machine Learning ...|  260000|            USD|       260000|                JP|           0|              JP|           S|\n",
      "|          2|     2020|              SE|             FT|   Big Data Engineer|   85000|            GBP|       109024|                GB|          50|              GB|           M|\n",
      "|          3|     2020|              MI|             FT|Product Data Analyst|   20000|            USD|        20000|                HN|           0|              HN|           S|\n",
      "|          4|     2020|              SE|             FT|Machine Learning ...|  150000|            USD|       150000|                US|          50|              US|           L|\n",
      "|          5|     2020|              EN|             FT|        Data Analyst|   72000|            USD|        72000|                US|         100|              US|           L|\n",
      "|          6|     2020|              SE|             FT| Lead Data Scientist|  190000|            USD|       190000|                US|         100|              US|           S|\n",
      "|          7|     2020|              MI|             FT|      Data Scientist|11000000|            HUF|        35735|                HU|          50|              HU|           L|\n",
      "|          8|     2020|              MI|             FT|Business Data Ana...|  135000|            USD|       135000|                US|         100|              US|           L|\n",
      "|          9|     2020|              SE|             FT|  Lead Data Engineer|  125000|            USD|       125000|                NZ|          50|              NZ|           S|\n",
      "|         10|     2020|              EN|             FT|      Data Scientist|   45000|            EUR|        51321|                FR|           0|              FR|           S|\n",
      "|         11|     2020|              MI|             FT|      Data Scientist| 3000000|            INR|        40481|                IN|           0|              IN|           L|\n",
      "|         12|     2020|              EN|             FT|      Data Scientist|   35000|            EUR|        39916|                FR|           0|              FR|           M|\n",
      "|         13|     2020|              MI|             FT|   Lead Data Analyst|   87000|            USD|        87000|                US|         100|              US|           L|\n",
      "|         14|     2020|              MI|             FT|        Data Analyst|   85000|            USD|        85000|                US|         100|              US|           L|\n",
      "|         15|     2020|              MI|             FT|        Data Analyst|    8000|            USD|         8000|                PK|          50|              PK|           L|\n",
      "|         16|     2020|              EN|             FT|       Data Engineer| 4450000|            JPY|        41689|                JP|         100|              JP|           S|\n",
      "|         17|     2020|              SE|             FT|   Big Data Engineer|  100000|            EUR|       114047|                PL|         100|              GB|           S|\n",
      "|         18|     2020|              EN|             FT|Data Science Cons...|  423000|            INR|         5707|                IN|          50|              IN|           M|\n",
      "|         19|     2020|              MI|             FT|  Lead Data Engineer|   56000|            USD|        56000|                PT|         100|              US|           M|\n",
      "+-----------+---------+----------------+---------------+--------------------+--------+---------------+-------------+------------------+------------+----------------+------------+\n",
      "only showing top 20 rows\n",
      "\n"
     ]
    }
   ],
   "source": [
    "df.show()\n"
   ]
  },
  {
   "cell_type": "markdown",
   "id": "tamil-medium",
   "metadata": {},
   "source": [
    "print data in dataframe using display(df.toPandas())"
   ]
  },
  {
   "cell_type": "code",
   "execution_count": 13,
   "id": "connected-dryer",
   "metadata": {},
   "outputs": [
    {
     "data": {
      "text/html": [
       "<div>\n",
       "<style scoped>\n",
       "    .dataframe tbody tr th:only-of-type {\n",
       "        vertical-align: middle;\n",
       "    }\n",
       "\n",
       "    .dataframe tbody tr th {\n",
       "        vertical-align: top;\n",
       "    }\n",
       "\n",
       "    .dataframe thead th {\n",
       "        text-align: right;\n",
       "    }\n",
       "</style>\n",
       "<table border=\"1\" class=\"dataframe\">\n",
       "  <thead>\n",
       "    <tr style=\"text-align: right;\">\n",
       "      <th></th>\n",
       "      <th>employee_id</th>\n",
       "      <th>work_year</th>\n",
       "      <th>experience_level</th>\n",
       "      <th>employment_type</th>\n",
       "      <th>job_title</th>\n",
       "      <th>salary</th>\n",
       "      <th>salary_currency</th>\n",
       "      <th>salary_in_usd</th>\n",
       "      <th>employee_residence</th>\n",
       "      <th>remote_ratio</th>\n",
       "      <th>company_location</th>\n",
       "      <th>company_size</th>\n",
       "    </tr>\n",
       "  </thead>\n",
       "  <tbody>\n",
       "    <tr>\n",
       "      <th>0</th>\n",
       "      <td>0</td>\n",
       "      <td>2020</td>\n",
       "      <td>MI</td>\n",
       "      <td>FT</td>\n",
       "      <td>Data Scientist</td>\n",
       "      <td>70000</td>\n",
       "      <td>EUR</td>\n",
       "      <td>79833</td>\n",
       "      <td>DE</td>\n",
       "      <td>0</td>\n",
       "      <td>DE</td>\n",
       "      <td>L</td>\n",
       "    </tr>\n",
       "    <tr>\n",
       "      <th>1</th>\n",
       "      <td>1</td>\n",
       "      <td>2020</td>\n",
       "      <td>SE</td>\n",
       "      <td>FT</td>\n",
       "      <td>Machine Learning Scientist</td>\n",
       "      <td>260000</td>\n",
       "      <td>USD</td>\n",
       "      <td>260000</td>\n",
       "      <td>JP</td>\n",
       "      <td>0</td>\n",
       "      <td>JP</td>\n",
       "      <td>S</td>\n",
       "    </tr>\n",
       "    <tr>\n",
       "      <th>2</th>\n",
       "      <td>2</td>\n",
       "      <td>2020</td>\n",
       "      <td>SE</td>\n",
       "      <td>FT</td>\n",
       "      <td>Big Data Engineer</td>\n",
       "      <td>85000</td>\n",
       "      <td>GBP</td>\n",
       "      <td>109024</td>\n",
       "      <td>GB</td>\n",
       "      <td>50</td>\n",
       "      <td>GB</td>\n",
       "      <td>M</td>\n",
       "    </tr>\n",
       "    <tr>\n",
       "      <th>3</th>\n",
       "      <td>3</td>\n",
       "      <td>2020</td>\n",
       "      <td>MI</td>\n",
       "      <td>FT</td>\n",
       "      <td>Product Data Analyst</td>\n",
       "      <td>20000</td>\n",
       "      <td>USD</td>\n",
       "      <td>20000</td>\n",
       "      <td>HN</td>\n",
       "      <td>0</td>\n",
       "      <td>HN</td>\n",
       "      <td>S</td>\n",
       "    </tr>\n",
       "    <tr>\n",
       "      <th>4</th>\n",
       "      <td>4</td>\n",
       "      <td>2020</td>\n",
       "      <td>SE</td>\n",
       "      <td>FT</td>\n",
       "      <td>Machine Learning Engineer</td>\n",
       "      <td>150000</td>\n",
       "      <td>USD</td>\n",
       "      <td>150000</td>\n",
       "      <td>US</td>\n",
       "      <td>50</td>\n",
       "      <td>US</td>\n",
       "      <td>L</td>\n",
       "    </tr>\n",
       "    <tr>\n",
       "      <th>...</th>\n",
       "      <td>...</td>\n",
       "      <td>...</td>\n",
       "      <td>...</td>\n",
       "      <td>...</td>\n",
       "      <td>...</td>\n",
       "      <td>...</td>\n",
       "      <td>...</td>\n",
       "      <td>...</td>\n",
       "      <td>...</td>\n",
       "      <td>...</td>\n",
       "      <td>...</td>\n",
       "      <td>...</td>\n",
       "    </tr>\n",
       "    <tr>\n",
       "      <th>602</th>\n",
       "      <td>602</td>\n",
       "      <td>2022</td>\n",
       "      <td>SE</td>\n",
       "      <td>FT</td>\n",
       "      <td>Data Engineer</td>\n",
       "      <td>154000</td>\n",
       "      <td>USD</td>\n",
       "      <td>154000</td>\n",
       "      <td>US</td>\n",
       "      <td>100</td>\n",
       "      <td>US</td>\n",
       "      <td>M</td>\n",
       "    </tr>\n",
       "    <tr>\n",
       "      <th>603</th>\n",
       "      <td>603</td>\n",
       "      <td>2022</td>\n",
       "      <td>SE</td>\n",
       "      <td>FT</td>\n",
       "      <td>Data Engineer</td>\n",
       "      <td>126000</td>\n",
       "      <td>USD</td>\n",
       "      <td>126000</td>\n",
       "      <td>US</td>\n",
       "      <td>100</td>\n",
       "      <td>US</td>\n",
       "      <td>M</td>\n",
       "    </tr>\n",
       "    <tr>\n",
       "      <th>604</th>\n",
       "      <td>604</td>\n",
       "      <td>2022</td>\n",
       "      <td>SE</td>\n",
       "      <td>FT</td>\n",
       "      <td>Data Analyst</td>\n",
       "      <td>129000</td>\n",
       "      <td>USD</td>\n",
       "      <td>129000</td>\n",
       "      <td>US</td>\n",
       "      <td>0</td>\n",
       "      <td>US</td>\n",
       "      <td>M</td>\n",
       "    </tr>\n",
       "    <tr>\n",
       "      <th>605</th>\n",
       "      <td>605</td>\n",
       "      <td>2022</td>\n",
       "      <td>SE</td>\n",
       "      <td>FT</td>\n",
       "      <td>Data Analyst</td>\n",
       "      <td>150000</td>\n",
       "      <td>USD</td>\n",
       "      <td>150000</td>\n",
       "      <td>US</td>\n",
       "      <td>100</td>\n",
       "      <td>US</td>\n",
       "      <td>M</td>\n",
       "    </tr>\n",
       "    <tr>\n",
       "      <th>606</th>\n",
       "      <td>606</td>\n",
       "      <td>2022</td>\n",
       "      <td>MI</td>\n",
       "      <td>FT</td>\n",
       "      <td>AI Scientist</td>\n",
       "      <td>200000</td>\n",
       "      <td>USD</td>\n",
       "      <td>200000</td>\n",
       "      <td>IN</td>\n",
       "      <td>100</td>\n",
       "      <td>US</td>\n",
       "      <td>L</td>\n",
       "    </tr>\n",
       "  </tbody>\n",
       "</table>\n",
       "<p>607 rows × 12 columns</p>\n",
       "</div>"
      ],
      "text/plain": [
       "     employee_id  work_year experience_level employment_type   \n",
       "0              0       2020               MI              FT  \\\n",
       "1              1       2020               SE              FT   \n",
       "2              2       2020               SE              FT   \n",
       "3              3       2020               MI              FT   \n",
       "4              4       2020               SE              FT   \n",
       "..           ...        ...              ...             ...   \n",
       "602          602       2022               SE              FT   \n",
       "603          603       2022               SE              FT   \n",
       "604          604       2022               SE              FT   \n",
       "605          605       2022               SE              FT   \n",
       "606          606       2022               MI              FT   \n",
       "\n",
       "                      job_title  salary salary_currency  salary_in_usd   \n",
       "0                Data Scientist   70000             EUR          79833  \\\n",
       "1    Machine Learning Scientist  260000             USD         260000   \n",
       "2             Big Data Engineer   85000             GBP         109024   \n",
       "3          Product Data Analyst   20000             USD          20000   \n",
       "4     Machine Learning Engineer  150000             USD         150000   \n",
       "..                          ...     ...             ...            ...   \n",
       "602               Data Engineer  154000             USD         154000   \n",
       "603               Data Engineer  126000             USD         126000   \n",
       "604                Data Analyst  129000             USD         129000   \n",
       "605                Data Analyst  150000             USD         150000   \n",
       "606                AI Scientist  200000             USD         200000   \n",
       "\n",
       "    employee_residence  remote_ratio company_location company_size  \n",
       "0                   DE             0               DE            L  \n",
       "1                   JP             0               JP            S  \n",
       "2                   GB            50               GB            M  \n",
       "3                   HN             0               HN            S  \n",
       "4                   US            50               US            L  \n",
       "..                 ...           ...              ...          ...  \n",
       "602                 US           100               US            M  \n",
       "603                 US           100               US            M  \n",
       "604                 US             0               US            M  \n",
       "605                 US           100               US            M  \n",
       "606                 IN           100               US            L  \n",
       "\n",
       "[607 rows x 12 columns]"
      ]
     },
     "metadata": {},
     "output_type": "display_data"
    }
   ],
   "source": [
    "display(df.toPandas())"
   ]
  },
  {
   "cell_type": "markdown",
   "id": "opponent-gazette",
   "metadata": {},
   "source": [
    "create df_job_title that consists from all job_titles without duplicates"
   ]
  },
  {
   "cell_type": "code",
   "execution_count": 14,
   "id": "friendly-cartridge",
   "metadata": {},
   "outputs": [
    {
     "name": "stdout",
     "output_type": "stream",
     "text": [
      "Distinct count: 50\n"
     ]
    }
   ],
   "source": [
    "df_job_title = df.dropDuplicates(['job_title'])\n",
    "print(\"Distinct count: \"+str(df_job_title.count()))"
   ]
  },
  {
   "cell_type": "markdown",
   "id": "offshore-architecture",
   "metadata": {},
   "source": [
    "print all rows from df_job_titles without truncating jobs"
   ]
  },
  {
   "cell_type": "code",
   "execution_count": 15,
   "id": "asian-edition",
   "metadata": {},
   "outputs": [
    {
     "name": "stdout",
     "output_type": "stream",
     "text": [
      "+-----------+---------+----------------+---------------+----------------------------------+-------+---------------+-------------+------------------+------------+----------------+------------+\n",
      "|employee_id|work_year|experience_level|employment_type|job_title                         |salary |salary_currency|salary_in_usd|employee_residence|remote_ratio|company_location|company_size|\n",
      "+-----------+---------+----------------+---------------+----------------------------------+-------+---------------+-------------+------------------+------------+----------------+------------+\n",
      "|77         |2021     |MI              |PT             |3D Computer Vision Researcher     |400000 |INR            |5409         |IN                |50          |IN              |M           |\n",
      "|52         |2020     |EN              |FT             |AI Scientist                      |300000 |DKK            |45896        |DK                |50          |DK              |S           |\n",
      "|344        |2022     |EX              |FT             |Analytics Engineer                |175000 |USD            |175000       |US                |100         |US              |M           |\n",
      "|82         |2021     |MI              |FT             |Applied Data Scientist            |68000  |CAD            |54238        |GB                |50          |CA              |L           |\n",
      "|132        |2021     |MI              |FT             |Applied Machine Learning Scientist|38400  |USD            |38400        |VN                |100         |US              |M           |\n",
      "|23         |2020     |MI              |FT             |BI Data Analyst                   |98000  |USD            |98000        |US                |0           |US              |M           |\n",
      "|255        |2021     |SE              |FT             |Big Data Architect                |125000 |CAD            |99703        |CA                |50          |CA              |M           |\n",
      "|2          |2020     |SE              |FT             |Big Data Engineer                 |85000  |GBP            |109024       |GB                |50          |GB              |M           |\n",
      "|8          |2020     |MI              |FT             |Business Data Analyst             |135000 |USD            |135000       |US                |100         |US              |L           |\n",
      "|95         |2021     |MI              |FT             |Cloud Data Engineer               |120000 |SGD            |89294        |SG                |50          |SG              |L           |\n",
      "|54         |2020     |SE              |FL             |Computer Vision Engineer          |60000  |USD            |60000        |RU                |100         |US              |S           |\n",
      "|98         |2021     |EN              |FT             |Computer Vision Software Engineer |70000  |USD            |70000        |US                |100         |US              |M           |\n",
      "|5          |2020     |EN              |FT             |Data Analyst                      |72000  |USD            |72000        |US                |100         |US              |L           |\n",
      "|80         |2021     |SE              |FT             |Data Analytics Engineer           |67000  |EUR            |79197        |DE                |100         |DE              |L           |\n",
      "|523        |2022     |SE              |FT             |Data Analytics Lead               |405000 |USD            |405000       |US                |100         |US              |L           |\n",
      "|158        |2021     |SE              |FT             |Data Analytics Manager            |120000 |USD            |120000       |US                |100         |US              |M           |\n",
      "|169        |2021     |MI              |FT             |Data Architect                    |150000 |USD            |150000       |US                |100         |US              |L           |\n",
      "|16         |2020     |EN              |FT             |Data Engineer                     |4450000|JPY            |41689        |JP                |100         |JP              |S           |\n",
      "|30         |2020     |MI              |FT             |Data Engineering Manager          |51999  |EUR            |59303        |DE                |100         |DE              |S           |\n",
      "|18         |2020     |EN              |FT             |Data Science Consultant           |423000 |INR            |5707         |IN                |50          |IN              |M           |\n",
      "+-----------+---------+----------------+---------------+----------------------------------+-------+---------------+-------------+------------------+------------+----------------+------------+\n",
      "only showing top 20 rows\n",
      "\n"
     ]
    }
   ],
   "source": [
    "df_job_title.show(truncate=False)"
   ]
  },
  {
   "cell_type": "markdown",
   "id": "interim-pharmacy",
   "metadata": {},
   "source": [
    "create  df_analytic that will consists from max, avg, min USD salaries for all job_titles using groupBy. name of fields is avg_salary, min_salary, max_salary"
   ]
  },
  {
   "cell_type": "code",
   "execution_count": 16,
   "id": "naval-roller",
   "metadata": {},
   "outputs": [],
   "source": [
    "df_analytic = df.groupby('job_title').agg(max('salary_in_usd').alias(\"max_salary\"), avg('salary_in_usd').alias(\"avg_salary\"), min('salary_in_usd').alias(\"min_salary\"),)"
   ]
  },
  {
   "cell_type": "markdown",
   "id": "french-pledge",
   "metadata": {},
   "source": [
    "print all rows from df_analytic without trancating jobs"
   ]
  },
  {
   "cell_type": "code",
   "execution_count": 17,
   "id": "bacterial-depression",
   "metadata": {},
   "outputs": [
    {
     "name": "stdout",
     "output_type": "stream",
     "text": [
      "+----------------------------------------+----------+------------------+----------+\n",
      "|job_title                               |max_salary|avg_salary        |min_salary|\n",
      "+----------------------------------------+----------+------------------+----------+\n",
      "|3D Computer Vision Researcher           |5409      |5409.0            |5409      |\n",
      "|Lead Data Engineer                      |276000    |139724.5          |56000     |\n",
      "|Head of Machine Learning                |79039     |79039.0           |79039     |\n",
      "|Data Specialist                         |165000    |165000.0          |165000    |\n",
      "|Data Analytics Lead                     |405000    |405000.0          |405000    |\n",
      "|Machine Learning Scientist              |260000    |158412.5          |12000     |\n",
      "|Lead Data Analyst                       |170000    |92203.0           |19609     |\n",
      "|Data Engineering Manager                |174000    |123227.2          |59303     |\n",
      "|Staff Data Scientist                    |105000    |105000.0          |105000    |\n",
      "|ETL Developer                           |54957     |54957.0           |54957     |\n",
      "|Director of Data Engineering            |200000    |156738.0          |113476    |\n",
      "|Product Data Analyst                    |20000     |13036.0           |6072      |\n",
      "|Principal Data Scientist                |416000    |215242.42857142858|148261    |\n",
      "|AI Scientist                            |200000    |66135.57142857143 |12000     |\n",
      "|Director of Data Science                |325000    |195074.0          |130026    |\n",
      "|Machine Learning Engineer               |250000    |104880.14634146342|20000     |\n",
      "|Lead Data Scientist                     |190000    |115190.0          |40570     |\n",
      "|Machine Learning Infrastructure Engineer|195000    |101145.0          |50180     |\n",
      "|Data Science Engineer                   |127221    |75803.33333333333 |40189     |\n",
      "|Machine Learning Manager                |117104    |117104.0          |117104    |\n",
      "+----------------------------------------+----------+------------------+----------+\n",
      "only showing top 20 rows\n",
      "\n"
     ]
    }
   ],
   "source": [
    "df_analytic.show(truncate = False)"
   ]
  },
  {
   "cell_type": "markdown",
   "id": "hazardous-color",
   "metadata": {},
   "source": [
    "now you need to add in df_analytic column row_id, that will show order of all job_titles depending on avg salary. they should be descending"
   ]
  },
  {
   "cell_type": "code",
   "execution_count": 18,
   "id": "b8de3fba",
   "metadata": {},
   "outputs": [],
   "source": [
    "windowSpec  = Window.orderBy(col(\"avg_salary\").desc())\n",
    "df_analytic = df_analytic.withColumn(\"row_id\", row_number().over(windowSpec))"
   ]
  },
  {
   "cell_type": "markdown",
   "id": "documented-catalog",
   "metadata": {},
   "source": [
    "print all data from df_analytic"
   ]
  },
  {
   "cell_type": "code",
   "execution_count": 19,
   "id": "confirmed-monitoring",
   "metadata": {},
   "outputs": [
    {
     "name": "stdout",
     "output_type": "stream",
     "text": [
      "+----------------------------------+----------+------------------+----------+------+\n",
      "|job_title                         |max_salary|avg_salary        |min_salary|row_id|\n",
      "+----------------------------------+----------+------------------+----------+------+\n",
      "|Data Analytics Lead               |405000    |405000.0          |405000    |1     |\n",
      "|Principal Data Engineer           |600000    |328333.3333333333 |185000    |2     |\n",
      "|Financial Data Analyst            |450000    |275000.0          |100000    |3     |\n",
      "|Principal Data Scientist          |416000    |215242.42857142858|148261    |4     |\n",
      "|Director of Data Science          |325000    |195074.0          |130026    |5     |\n",
      "|Data Architect                    |266400    |177873.9090909091 |90700     |6     |\n",
      "|Applied Data Scientist            |380000    |175655.0          |54238     |7     |\n",
      "|Analytics Engineer                |205300    |175000.0          |135000    |8     |\n",
      "|Data Specialist                   |165000    |165000.0          |165000    |9     |\n",
      "|Head of Data                      |235000    |160162.6          |32974     |10    |\n",
      "|Machine Learning Scientist        |260000    |158412.5          |12000     |11    |\n",
      "|Data Science Manager              |241000    |158328.5          |54094     |12    |\n",
      "|Director of Data Engineering      |200000    |156738.0          |113476    |13    |\n",
      "|Head of Data Science              |224000    |146718.75         |85000     |14    |\n",
      "|Applied Machine Learning Scientist|423000    |142068.75         |31875     |15    |\n",
      "|Lead Data Engineer                |276000    |139724.5          |56000     |16    |\n",
      "|Data Analytics Manager            |150260    |127134.28571428571|105400    |17    |\n",
      "|Cloud Data Engineer               |160000    |124647.0          |89294     |18    |\n",
      "|Data Engineering Manager          |174000    |123227.2          |59303     |19    |\n",
      "|Principal Data Analyst            |170000    |122500.0          |75000     |20    |\n",
      "+----------------------------------+----------+------------------+----------+------+\n",
      "only showing top 20 rows\n",
      "\n"
     ]
    }
   ],
   "source": [
    "df_analytic.show(truncate = False)"
   ]
  },
  {
   "cell_type": "markdown",
   "id": "satellite-quarter",
   "metadata": {},
   "source": [
    "it isn't beautifull, so we need to put now row_id on first place in df_analytic"
   ]
  },
  {
   "cell_type": "code",
   "execution_count": 20,
   "id": "ranging-tribune",
   "metadata": {},
   "outputs": [],
   "source": [
    "df_analytic = df_analytic.select('row_id', 'job_title', 'max_salary', 'avg_salary', 'min_salary')"
   ]
  },
  {
   "cell_type": "markdown",
   "id": "reliable-amsterdam",
   "metadata": {},
   "source": [
    "print df_analytic now"
   ]
  },
  {
   "cell_type": "code",
   "execution_count": 21,
   "id": "e4f85d02",
   "metadata": {},
   "outputs": [
    {
     "name": "stdout",
     "output_type": "stream",
     "text": [
      "+------+--------------------+----------+------------------+----------+\n",
      "|row_id|           job_title|max_salary|        avg_salary|min_salary|\n",
      "+------+--------------------+----------+------------------+----------+\n",
      "|     1| Data Analytics Lead|    405000|          405000.0|    405000|\n",
      "|     2|Principal Data En...|    600000| 328333.3333333333|    185000|\n",
      "|     3|Financial Data An...|    450000|          275000.0|    100000|\n",
      "|     4|Principal Data Sc...|    416000|215242.42857142858|    148261|\n",
      "|     5|Director of Data ...|    325000|          195074.0|    130026|\n",
      "|     6|      Data Architect|    266400| 177873.9090909091|     90700|\n",
      "|     7|Applied Data Scie...|    380000|          175655.0|     54238|\n",
      "|     8|  Analytics Engineer|    205300|          175000.0|    135000|\n",
      "|     9|     Data Specialist|    165000|          165000.0|    165000|\n",
      "|    10|        Head of Data|    235000|          160162.6|     32974|\n",
      "|    11|Machine Learning ...|    260000|          158412.5|     12000|\n",
      "|    12|Data Science Manager|    241000|          158328.5|     54094|\n",
      "|    13|Director of Data ...|    200000|          156738.0|    113476|\n",
      "|    14|Head of Data Science|    224000|         146718.75|     85000|\n",
      "|    15|Applied Machine L...|    423000|         142068.75|     31875|\n",
      "|    16|  Lead Data Engineer|    276000|          139724.5|     56000|\n",
      "|    17|Data Analytics Ma...|    150260|127134.28571428571|    105400|\n",
      "|    18| Cloud Data Engineer|    160000|          124647.0|     89294|\n",
      "|    19|Data Engineering ...|    174000|          123227.2|     59303|\n",
      "|    20|Principal Data An...|    170000|          122500.0|     75000|\n",
      "+------+--------------------+----------+------------------+----------+\n",
      "only showing top 20 rows\n",
      "\n"
     ]
    }
   ],
   "source": [
    "df_analytic.show()"
   ]
  },
  {
   "cell_type": "markdown",
   "id": "hybrid-queensland",
   "metadata": {},
   "source": [
    "here you need to create df_exp_lvl with the biggest usd_salary(biggest_salary) for each experience_level(you need to save all fields like in entire dataframe)"
   ]
  },
  {
   "cell_type": "code",
   "execution_count": 22,
   "id": "dental-wrist",
   "metadata": {},
   "outputs": [],
   "source": [
    "df_exp_lvl = df.groupby('experience_level').agg(max('salary_in_usd').alias(\"biggest_salary\"))"
   ]
  },
  {
   "cell_type": "markdown",
   "id": "innovative-hierarchy",
   "metadata": {},
   "source": [
    "print here df_exp_lvl"
   ]
  },
  {
   "cell_type": "code",
   "execution_count": 23,
   "id": "standing-toilet",
   "metadata": {},
   "outputs": [
    {
     "name": "stdout",
     "output_type": "stream",
     "text": [
      "+----------------+--------------+\n",
      "|experience_level|biggest_salary|\n",
      "+----------------+--------------+\n",
      "|EX              |600000        |\n",
      "|MI              |450000        |\n",
      "|EN              |250000        |\n",
      "|SE              |412000        |\n",
      "+----------------+--------------+\n",
      "\n"
     ]
    }
   ],
   "source": [
    "df_exp_lvl.show(truncate = False)"
   ]
  },
  {
   "attachments": {},
   "cell_type": "markdown",
   "id": "hawaiian-mortgage",
   "metadata": {},
   "source": [
    "create df_best that consists from rows where salary of guy same as biggest salary for other people in his exp_lvl and choose only columns: employee_id, experience_level, biggest_salary, employee_residence"
   ]
  },
  {
   "cell_type": "code",
   "execution_count": 24,
   "id": "766bccc1",
   "metadata": {},
   "outputs": [
    {
     "name": "stdout",
     "output_type": "stream",
     "text": [
      "+-------+--------------+\n",
      "|exp_lvl|biggest_salary|\n",
      "+-------+--------------+\n",
      "|     EX|        600000|\n",
      "|     MI|        450000|\n",
      "|     EN|        250000|\n",
      "|     SE|        412000|\n",
      "+-------+--------------+\n",
      "\n"
     ]
    }
   ],
   "source": [
    "df_exp_lvl = df_exp_lvl.withColumnRenamed('experience_level','exp_lvl')\n",
    "df_exp_lvl.show(5)"
   ]
  },
  {
   "cell_type": "code",
   "execution_count": 25,
   "id": "e4081af0",
   "metadata": {},
   "outputs": [
    {
     "name": "stdout",
     "output_type": "stream",
     "text": [
      "+-----------+---------+----------------+---------------+--------------------+------+---------------+-------------+------------------+------------+----------------+------------+-------+--------------+\n",
      "|employee_id|work_year|experience_level|employment_type|           job_title|salary|salary_currency|salary_in_usd|employee_residence|remote_ratio|company_location|company_size|exp_lvl|biggest_salary|\n",
      "+-----------+---------+----------------+---------------+--------------------+------+---------------+-------------+------------------+------------+----------------+------------+-------+--------------+\n",
      "|          0|     2020|              MI|             FT|      Data Scientist| 70000|            EUR|        79833|                DE|           0|              DE|           L|     MI|        450000|\n",
      "|          1|     2020|              SE|             FT|Machine Learning ...|260000|            USD|       260000|                JP|           0|              JP|           S|     SE|        412000|\n",
      "|          2|     2020|              SE|             FT|   Big Data Engineer| 85000|            GBP|       109024|                GB|          50|              GB|           M|     SE|        412000|\n",
      "|          3|     2020|              MI|             FT|Product Data Analyst| 20000|            USD|        20000|                HN|           0|              HN|           S|     MI|        450000|\n",
      "|          4|     2020|              SE|             FT|Machine Learning ...|150000|            USD|       150000|                US|          50|              US|           L|     SE|        412000|\n",
      "+-----------+---------+----------------+---------------+--------------------+------+---------------+-------------+------------------+------------+----------------+------------+-------+--------------+\n",
      "only showing top 5 rows\n",
      "\n"
     ]
    }
   ],
   "source": [
    "df_exp = df.join(df_exp_lvl, df.experience_level ==  df_exp_lvl.exp_lvl)\n",
    "df_exp.show(5)"
   ]
  },
  {
   "cell_type": "code",
   "execution_count": 26,
   "id": "toxic-prompt",
   "metadata": {},
   "outputs": [],
   "source": [
    "df_best = df_exp.filter(df_exp.salary_in_usd == df_exp.biggest_salary)"
   ]
  },
  {
   "cell_type": "code",
   "execution_count": 27,
   "id": "0c491c7c",
   "metadata": {},
   "outputs": [],
   "source": [
    "df_best = df_best.select('employee_id', 'exp_lvl', 'biggest_salary', 'employee_residence')"
   ]
  },
  {
   "cell_type": "markdown",
   "id": "complex-librarian",
   "metadata": {},
   "source": [
    "print df_best"
   ]
  },
  {
   "cell_type": "code",
   "execution_count": 28,
   "id": "smart-texas",
   "metadata": {},
   "outputs": [
    {
     "name": "stdout",
     "output_type": "stream",
     "text": [
      "+-----------+-------+--------------+------------------+\n",
      "|employee_id|exp_lvl|biggest_salary|employee_residence|\n",
      "+-----------+-------+--------------+------------------+\n",
      "|33         |MI     |450000        |US                |\n",
      "|37         |EN     |250000        |US                |\n",
      "|63         |SE     |412000        |US                |\n",
      "|97         |MI     |450000        |US                |\n",
      "|252        |EX     |600000        |US                |\n",
      "+-----------+-------+--------------+------------------+\n",
      "\n"
     ]
    }
   ],
   "source": [
    "df_best.show(truncate = False)"
   ]
  },
  {
   "cell_type": "markdown",
   "id": "integral-brass",
   "metadata": {},
   "source": [
    "drop duplicates if exist by experience_level"
   ]
  },
  {
   "cell_type": "code",
   "execution_count": 29,
   "id": "immune-marine",
   "metadata": {},
   "outputs": [],
   "source": [
    "df_best = df_best.dropDuplicates(['exp_lvl'])"
   ]
  },
  {
   "cell_type": "markdown",
   "id": "connected-credit",
   "metadata": {},
   "source": [
    "print df_best"
   ]
  },
  {
   "cell_type": "code",
   "execution_count": 280,
   "id": "specified-wellington",
   "metadata": {},
   "outputs": [
    {
     "name": "stdout",
     "output_type": "stream",
     "text": [
      "+-----------+-------+--------------+------------------+\n",
      "|employee_id|exp_lvl|biggest_salary|employee_residence|\n",
      "+-----------+-------+--------------+------------------+\n",
      "|         37|     EN|        250000|                US|\n",
      "|        252|     EX|        600000|                US|\n",
      "|         33|     MI|        450000|                US|\n",
      "|         63|     SE|        412000|                US|\n",
      "+-----------+-------+--------------+------------------+\n",
      "\n"
     ]
    }
   ],
   "source": [
    "df_best.show(5)"
   ]
  },
  {
   "cell_type": "markdown",
   "id": "facial-plant",
   "metadata": {},
   "source": [
    "create df_new_best from df_best without id, and make the next: when exp_level = MI we want middle, when SE we want senior, else Null"
   ]
  },
  {
   "cell_type": "code",
   "execution_count": 30,
   "id": "infinite-retail",
   "metadata": {},
   "outputs": [],
   "source": [
    "df_new_best = df_best.select('exp_lvl', 'biggest_salary', 'employee_residence')\n",
    "df_new_best = df_new_best.withColumn('level', when(df_new_best.exp_lvl == \"MI\",\"middle\") \\\n",
    "                                            .when(df_new_best.exp_lvl == \"SE\",\"senior\"))\n"
   ]
  },
  {
   "cell_type": "markdown",
   "id": "changing-fairy",
   "metadata": {},
   "source": [
    "print df_new_best"
   ]
  },
  {
   "cell_type": "code",
   "execution_count": 47,
   "id": "endless-framework",
   "metadata": {},
   "outputs": [
    {
     "data": {
      "text/plain": [
       "pyspark.sql.dataframe.DataFrame"
      ]
     },
     "execution_count": 47,
     "metadata": {},
     "output_type": "execute_result"
    }
   ],
   "source": [
    "type(df_new_best)"
   ]
  },
  {
   "cell_type": "markdown",
   "id": "mineral-status",
   "metadata": {},
   "source": [
    "write df_new_best like file.csv and load then it to df_final"
   ]
  },
  {
   "cell_type": "code",
   "execution_count": 57,
   "id": "418b1801",
   "metadata": {},
   "outputs": [],
   "source": [
    "#wrong df_new_best.to_csv(\"file.csv\", index=False)\n",
    "#wrong df_new_best.repartition(1).write.format('com.databricks.spark.csv').save('haha',header = 'true')\n",
    "df_new_best.toPandas().to_csv(\"file.csv\")"
   ]
  },
  {
   "cell_type": "code",
   "execution_count": 58,
   "id": "baking-progress",
   "metadata": {},
   "outputs": [],
   "source": [
    "df_final = spark.read .format(\"csv\").option(\"header\", True).option(\"inferSchema\", True).option(\"path\", \"file.csv\").load()"
   ]
  },
  {
   "cell_type": "markdown",
   "id": "vocal-shooting",
   "metadata": {},
   "source": [
    "print df_final"
   ]
  },
  {
   "cell_type": "code",
   "execution_count": 59,
   "id": "expired-viewer",
   "metadata": {},
   "outputs": [
    {
     "name": "stdout",
     "output_type": "stream",
     "text": [
      "+---+-------+--------------+------------------+------+\n",
      "|_c0|exp_lvl|biggest_salary|employee_residence| level|\n",
      "+---+-------+--------------+------------------+------+\n",
      "|  0|     EN|        250000|                US|  null|\n",
      "|  1|     EX|        600000|                US|  null|\n",
      "|  2|     MI|        450000|                US|middle|\n",
      "|  3|     SE|        412000|                US|senior|\n",
      "+---+-------+--------------+------------------+------+\n",
      "\n"
     ]
    }
   ],
   "source": [
    "df_final.show()"
   ]
  },
  {
   "cell_type": "markdown",
   "id": "nutritional-progress",
   "metadata": {},
   "source": [
    "filter df_final to delete experience_level where it Null, then join this table by biggest_salary(salary_in_usd) and employee_residence with entire df"
   ]
  },
  {
   "cell_type": "code",
   "execution_count": 78,
   "id": "small-polymer",
   "metadata": {},
   "outputs": [
    {
     "name": "stdout",
     "output_type": "stream",
     "text": [
      "+---+--------------+------------------+------+\n",
      "|_c0|biggest_salary|employee_residence| level|\n",
      "+---+--------------+------------------+------+\n",
      "|  2|        450000|                US|middle|\n",
      "|  3|        412000|                US|senior|\n",
      "+---+--------------+------------------+------+\n",
      "\n"
     ]
    }
   ],
   "source": [
    "df_final = df_final.na.drop()\n",
    "df_final.show()"
   ]
  },
  {
   "cell_type": "code",
   "execution_count": 79,
   "id": "59e103fe",
   "metadata": {},
   "outputs": [],
   "source": [
    "df_f = df_final.join(df, (df.salary_in_usd ==  df_final.biggest_salary) & (df.employee_residence == df_final.employee_residence))"
   ]
  },
  {
   "cell_type": "markdown",
   "id": "variable-twins",
   "metadata": {},
   "source": [
    "print df_final"
   ]
  },
  {
   "cell_type": "code",
   "execution_count": 80,
   "id": "generic-block",
   "metadata": {},
   "outputs": [
    {
     "name": "stdout",
     "output_type": "stream",
     "text": [
      "+---+--------------+------------------+------+-----------+---------+----------------+---------------+--------------------+------+---------------+-------------+------------------+------------+----------------+------------+\n",
      "|_c0|biggest_salary|employee_residence| level|employee_id|work_year|experience_level|employment_type|           job_title|salary|salary_currency|salary_in_usd|employee_residence|remote_ratio|company_location|company_size|\n",
      "+---+--------------+------------------+------+-----------+---------+----------------+---------------+--------------------+------+---------------+-------------+------------------+------------+----------------+------------+\n",
      "|  2|        450000|                US|middle|         33|     2020|              MI|             FT|  Research Scientist|450000|            USD|       450000|                US|           0|              US|           M|\n",
      "|  3|        412000|                US|senior|         63|     2020|              SE|             FT|      Data Scientist|412000|            USD|       412000|                US|         100|              US|           L|\n",
      "|  2|        450000|                US|middle|         97|     2021|              MI|             FT|Financial Data An...|450000|            USD|       450000|                US|         100|              US|           L|\n",
      "+---+--------------+------------------+------+-----------+---------+----------------+---------------+--------------------+------+---------------+-------------+------------------+------------+----------------+------------+\n",
      "\n"
     ]
    }
   ],
   "source": [
    "df_f.show()"
   ]
  },
  {
   "cell_type": "markdown",
   "id": "variable-moore",
   "metadata": {},
   "source": [
    "last task is to save in variable and then print this variable of the biggest salary_in_usd from df_final"
   ]
  },
  {
   "cell_type": "code",
   "execution_count": 87,
   "id": "individual-institution",
   "metadata": {},
   "outputs": [
    {
     "name": "stdout",
     "output_type": "stream",
     "text": [
      "+---+--------------+------------------+------+-----------+---------+----------------+---------------+--------------------+------+---------------+-------------+------------------+------------+----------------+------------+\n",
      "|_c0|biggest_salary|employee_residence| level|employee_id|work_year|experience_level|employment_type|           job_title|salary|salary_currency|salary_in_usd|employee_residence|remote_ratio|company_location|company_size|\n",
      "+---+--------------+------------------+------+-----------+---------+----------------+---------------+--------------------+------+---------------+-------------+------------------+------------+----------------+------------+\n",
      "|  2|        450000|                US|middle|         33|     2020|              MI|             FT|  Research Scientist|450000|            USD|       450000|                US|           0|              US|           M|\n",
      "|  3|        412000|                US|senior|         63|     2020|              SE|             FT|      Data Scientist|412000|            USD|       412000|                US|         100|              US|           L|\n",
      "|  2|        450000|                US|middle|         97|     2021|              MI|             FT|Financial Data An...|450000|            USD|       450000|                US|         100|              US|           L|\n",
      "+---+--------------+------------------+------+-----------+---------+----------------+---------------+--------------------+------+---------------+-------------+------------------+------------+----------------+------------+\n",
      "\n"
     ]
    }
   ],
   "source": [
    "biggest_salary_in_usd = df_f.show()"
   ]
  },
  {
   "cell_type": "markdown",
   "id": "stopped-procedure",
   "metadata": {},
   "source": [
    "It is the end of PySpark basics. In other lessons you will learn optimizations technics and how to make distributed system"
   ]
  }
 ],
 "metadata": {
  "kernelspec": {
   "display_name": "Python 3",
   "language": "python",
   "name": "python3"
  },
  "language_info": {
   "codemirror_mode": {
    "name": "ipython",
    "version": 3
   },
   "file_extension": ".py",
   "mimetype": "text/x-python",
   "name": "python",
   "nbconvert_exporter": "python",
   "pygments_lexer": "ipython3",
   "version": "3.11.3"
  }
 },
 "nbformat": 4,
 "nbformat_minor": 5
}
